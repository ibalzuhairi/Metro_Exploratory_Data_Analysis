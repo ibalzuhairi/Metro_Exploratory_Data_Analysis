{
 "cells": [
  {
   "cell_type": "markdown",
   "metadata": {},
   "source": [
    "# Project Proposal: EDA\n",
    "## Question / Need:\n",
    "NYC Metro system is among the busiest metro networks in the world according to (intelligenttransport.com).According to New York’s Metropolitan Transportation Authority, Time square is the most used metro station in New York Metro network with over 65 million person passing through it's gate.\n",
    "\n",
    "Large number of people passing through current turnstile gates is ineffective. Therefore, our analysis will identify stations that need to upgrade turnstile mechanism to increase transportation effectiveness.\n",
    "\n",
    "1- What are the top 10  highly used turnstile gate? \n",
    "\n",
    "2- On each line, Does people uses all turnstiles equally? (is it a flow distribution problem or a real need to upgrade)\n",
    "\n",
    "\n"
   ]
  },
  {
   "cell_type": "markdown",
   "metadata": {},
   "source": [
    "## Data Description:\n",
    "\n",
    "\n",
    "Turnstile data is obtained from Meropolitan Transportation Authority on http://web.mta.info/developers/turnstile.html\n",
    "The dataset contains turnstile cummulative Entries and Exits, with additional information about audit description, and lines that can be boarded\n",
    "\n",
    "The minimum unit of analysis is the number of entries, and exits each 4 hours. However, based on early exploration, some turnstile samples are collected at abnormal times.\n",
    "\n",
    "## Tools:\n",
    "- Python (Numpy, Pandas, Matplot, Seaborn)\n",
    "- Power BI (Additional)\n",
    "\n",
    "\n",
    "\n",
    "\n",
    "## Field Description:\n",
    "\n",
    "| Field Name | Description                                                                     |\n",
    "|------------|---------------------------------------------------------------------------------|\n",
    "| C/A        | Control Area (A002)                                                             |\n",
    "| UNIT       | Remote Unit for a station (R051)                                                |\n",
    "| SCP        | Subunit Channel Position represents an specific address for a device (02-00-00) |\n",
    "| STATION    | Represents the station name the device is located at                            |\n",
    "| LINENAME   | Represents all train lines that can be boarded at this station                  |\n",
    "| DIVISION   | Represents the Line originally the station belonged to BMT, IRT, or IND         |\n",
    "| DATE       | Represents the date (MM-DD-YY)                                                  |\n",
    "| TIME       | Represents the time (hh:mm:ss) for a scheduled audit event                      |\n",
    "| DESC       | Represent the \"REGULAR\" scheduled audit event (Normally occurs every 4 hours)   |\n",
    "| ENTRIES    | The comulative entry register value for a device                                |\n",
    "| EXITS      | The cumulative exit register value for a device                                 |"
   ]
  },
  {
   "cell_type": "code",
   "execution_count": null,
   "metadata": {},
   "outputs": [],
   "source": []
  }
 ],
 "metadata": {
  "kernelspec": {
   "display_name": "Python 3",
   "language": "python",
   "name": "python3"
  },
  "language_info": {
   "codemirror_mode": {
    "name": "ipython",
    "version": 3
   },
   "file_extension": ".py",
   "mimetype": "text/x-python",
   "name": "python",
   "nbconvert_exporter": "python",
   "pygments_lexer": "ipython3",
   "version": "3.8.3"
  }
 },
 "nbformat": 4,
 "nbformat_minor": 4
}
