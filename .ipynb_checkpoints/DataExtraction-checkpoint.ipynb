{
 "cells": [
  {
   "cell_type": "markdown",
   "metadata": {},
   "source": [
    "# Extract all link files from http://web.mta.info/developers/turnstile.html"
   ]
  },
  {
   "cell_type": "code",
   "execution_count": null,
   "metadata": {},
   "outputs": [],
   "source": [
    "from bs4 import BeautifulSoup, SoupStrainer\n",
    "import urllib.request as urllib2\n",
    "from urllib.request import urlopen\n",
    "import re\n",
    "from os.path import exists,getsize\n",
    "import os\n",
    "\n",
    "\n",
    "files_to_download = []\n",
    "html_page = urllib2.urlopen(\"http://web.mta.info/developers/turnstile.html\")\n",
    "soup = BeautifulSoup(html_page)\n",
    "all_Data_Links = soup.findAll('a' ,attrs={'href': re.compile(\"^data\")})\n",
    "for link in all_Data_Links:\n",
    "    print(link['href'].split(\"/\"))\n",
    "    fname = link['href'].split(\"/\")[3]\n",
    "    #check if file already exists or less than 20 Mega in size(partial file)\n",
    "    path_to_file = \"D:\\\\Proj\\\\1\\\\\"+str(fname)\n",
    "    if not exists(path_to_file) or getsize(path_to_file) <20*10**6:\n",
    "        file = open(path_to_file,\"wb\")\n",
    "        url = urllib2.urlopen('http://web.mta.info/developers/'+link['href'])\n",
    "        for line in url:\n",
    "            #print(type(line))\n",
    "            file.write(line + b'\\n')\n",
    "        file.close()\n",
    "    else:\n",
    "        print(\"file \"+fname+\" skipped\")\n",
    "    # add each link to a list\n",
    "    #files_to_download.append('http://web.mta.info/developers/'+link['href'])\n",
    "\n",
    "\n"
   ]
  },
  {
   "cell_type": "code",
   "execution_count": 3,
   "metadata": {},
   "outputs": [],
   "source": [
    "import pandas as pd\n",
    "def get_data(week_nums):\n",
    "    #url = \"http://web.mta.info/developers/data/nyct/turnstile/turnstile_{}.txt\"\n",
    "    dfs = []\n",
    "    for week_num in week_nums:\n",
    "        file_url = week_num\n",
    "        dfs.append(pd.read_csv(\"D:\\\\proj\\\\1\\\\\"+week_num))\n",
    "    return pd.concat(dfs)\n",
    "from os import listdir\n",
    "from os.path import isfile, join\n",
    "onlyfiles = [f for f in listdir(\"D:\\\\Proj\\\\1\") if isfile(join(\"D:\\\\Proj\\\\1\", f))]\n",
    "#week_nums = [160903, 160910, 160917]\n",
    "turnstiles_df = get_data(onlyfiles)\n"
   ]
  },
  {
   "cell_type": "code",
   "execution_count": 6,
   "metadata": {},
   "outputs": [
    {
     "data": {
      "text/html": [
       "<div>\n",
       "<style scoped>\n",
       "    .dataframe tbody tr th:only-of-type {\n",
       "        vertical-align: middle;\n",
       "    }\n",
       "\n",
       "    .dataframe tbody tr th {\n",
       "        vertical-align: top;\n",
       "    }\n",
       "\n",
       "    .dataframe thead th {\n",
       "        text-align: right;\n",
       "    }\n",
       "</style>\n",
       "<table border=\"1\" class=\"dataframe\">\n",
       "  <thead>\n",
       "    <tr style=\"text-align: right;\">\n",
       "      <th></th>\n",
       "      <th>C/A</th>\n",
       "      <th>UNIT</th>\n",
       "      <th>SCP</th>\n",
       "      <th>STATION</th>\n",
       "      <th>LINENAME</th>\n",
       "      <th>DIVISION</th>\n",
       "      <th>DATE</th>\n",
       "      <th>TIME</th>\n",
       "      <th>DESC</th>\n",
       "      <th>ENTRIES</th>\n",
       "      <th>EXITS</th>\n",
       "    </tr>\n",
       "  </thead>\n",
       "  <tbody>\n",
       "    <tr>\n",
       "      <th>0</th>\n",
       "      <td>A002</td>\n",
       "      <td>R051</td>\n",
       "      <td>02-00-00</td>\n",
       "      <td>59 ST</td>\n",
       "      <td>NQR456W</td>\n",
       "      <td>BMT</td>\n",
       "      <td>09/11/2021</td>\n",
       "      <td>00:00:00</td>\n",
       "      <td>REGULAR</td>\n",
       "      <td>7633126</td>\n",
       "      <td>2611933</td>\n",
       "    </tr>\n",
       "    <tr>\n",
       "      <th>1</th>\n",
       "      <td>A002</td>\n",
       "      <td>R051</td>\n",
       "      <td>02-00-00</td>\n",
       "      <td>59 ST</td>\n",
       "      <td>NQR456W</td>\n",
       "      <td>BMT</td>\n",
       "      <td>09/11/2021</td>\n",
       "      <td>04:00:00</td>\n",
       "      <td>REGULAR</td>\n",
       "      <td>7633141</td>\n",
       "      <td>2611934</td>\n",
       "    </tr>\n",
       "    <tr>\n",
       "      <th>2</th>\n",
       "      <td>A002</td>\n",
       "      <td>R051</td>\n",
       "      <td>02-00-00</td>\n",
       "      <td>59 ST</td>\n",
       "      <td>NQR456W</td>\n",
       "      <td>BMT</td>\n",
       "      <td>09/11/2021</td>\n",
       "      <td>08:00:00</td>\n",
       "      <td>REGULAR</td>\n",
       "      <td>7633152</td>\n",
       "      <td>2611953</td>\n",
       "    </tr>\n",
       "    <tr>\n",
       "      <th>3</th>\n",
       "      <td>A002</td>\n",
       "      <td>R051</td>\n",
       "      <td>02-00-00</td>\n",
       "      <td>59 ST</td>\n",
       "      <td>NQR456W</td>\n",
       "      <td>BMT</td>\n",
       "      <td>09/11/2021</td>\n",
       "      <td>12:00:00</td>\n",
       "      <td>REGULAR</td>\n",
       "      <td>7633203</td>\n",
       "      <td>2611997</td>\n",
       "    </tr>\n",
       "    <tr>\n",
       "      <th>4</th>\n",
       "      <td>A002</td>\n",
       "      <td>R051</td>\n",
       "      <td>02-00-00</td>\n",
       "      <td>59 ST</td>\n",
       "      <td>NQR456W</td>\n",
       "      <td>BMT</td>\n",
       "      <td>09/11/2021</td>\n",
       "      <td>16:00:00</td>\n",
       "      <td>REGULAR</td>\n",
       "      <td>7633308</td>\n",
       "      <td>2612026</td>\n",
       "    </tr>\n",
       "  </tbody>\n",
       "</table>\n",
       "</div>"
      ],
      "text/plain": [
       "    C/A  UNIT       SCP STATION LINENAME DIVISION        DATE      TIME  \\\n",
       "0  A002  R051  02-00-00   59 ST  NQR456W      BMT  09/11/2021  00:00:00   \n",
       "1  A002  R051  02-00-00   59 ST  NQR456W      BMT  09/11/2021  04:00:00   \n",
       "2  A002  R051  02-00-00   59 ST  NQR456W      BMT  09/11/2021  08:00:00   \n",
       "3  A002  R051  02-00-00   59 ST  NQR456W      BMT  09/11/2021  12:00:00   \n",
       "4  A002  R051  02-00-00   59 ST  NQR456W      BMT  09/11/2021  16:00:00   \n",
       "\n",
       "      DESC  ENTRIES  \\\n",
       "0  REGULAR  7633126   \n",
       "1  REGULAR  7633141   \n",
       "2  REGULAR  7633152   \n",
       "3  REGULAR  7633203   \n",
       "4  REGULAR  7633308   \n",
       "\n",
       "   EXITS                                                                 \n",
       "0                                            2611933                     \n",
       "1                                            2611934                     \n",
       "2                                            2611953                     \n",
       "3                                            2611997                     \n",
       "4                                            2612026                     "
      ]
     },
     "execution_count": 6,
     "metadata": {},
     "output_type": "execute_result"
    }
   ],
   "source": [
    "turnstiles_df.head()"
   ]
  },
  {
   "cell_type": "code",
   "execution_count": 13,
   "metadata": {},
   "outputs": [],
   "source": [
    "import urllib.request as urllib2"
   ]
  },
  {
   "cell_type": "code",
   "execution_count": 26,
   "metadata": {},
   "outputs": [],
   "source": [
    "from os import listdir\n",
    "from os.path import isfile, join\n",
    "onlyfiles = [f for f in listdir(\"D:\\\\Proj\\\\1\") if isfile(join(\"D:\\\\Proj\\\\1\", f))]"
   ]
  },
  {
   "cell_type": "code",
   "execution_count": 27,
   "metadata": {},
   "outputs": [
    {
     "data": {
      "text/plain": [
       "['turnstile_210710.txt',\n",
       " 'turnstile_210717.txt',\n",
       " 'turnstile_210724.txt',\n",
       " 'turnstile_210731.txt',\n",
       " 'turnstile_210807.txt',\n",
       " 'turnstile_210814.txt',\n",
       " 'turnstile_210821.txt',\n",
       " 'turnstile_210828.txt',\n",
       " 'turnstile_210904.txt',\n",
       " 'turnstile_210911.txt',\n",
       " 'turnstile_210918.txt']"
      ]
     },
     "execution_count": 27,
     "metadata": {},
     "output_type": "execute_result"
    }
   ],
   "source": [
    "onlyfiles"
   ]
  },
  {
   "cell_type": "code",
   "execution_count": 29,
   "metadata": {},
   "outputs": [],
   "source": [
    "import pyodbc\n",
    "server = 'LAPTOP-88OFGUMN\\SQLEXPRESS' \n",
    "database = 'T5_Proj1' \n",
    "username = 'sa' \n",
    "password = '102030' \n",
    "cnxn = pyodbc.connect('DRIVER={SQL Server};SERVER='+server+';DATABASE='+database+';UID='+username+';PWD='+ password)\n",
    "cursor = cnxn.cursor()\n",
    "# Insert Dataframe into SQL Server:\n",
    "#for index, row in df.iterrows():\n",
    "cursor.execute(\"Insert into MTA (C_A) values ('')\", )\n",
    "cnxn.commit()\n",
    "cursor.close()"
   ]
  },
  {
   "cell_type": "code",
   "execution_count": 31,
   "metadata": {},
   "outputs": [
    {
     "data": {
      "text/html": [
       "<div>\n",
       "<style scoped>\n",
       "    .dataframe tbody tr th:only-of-type {\n",
       "        vertical-align: middle;\n",
       "    }\n",
       "\n",
       "    .dataframe tbody tr th {\n",
       "        vertical-align: top;\n",
       "    }\n",
       "\n",
       "    .dataframe thead th {\n",
       "        text-align: right;\n",
       "    }\n",
       "</style>\n",
       "<table border=\"1\" class=\"dataframe\">\n",
       "  <thead>\n",
       "    <tr style=\"text-align: right;\">\n",
       "      <th></th>\n",
       "      <th>C_A</th>\n",
       "      <th>Unit</th>\n",
       "      <th>SCP</th>\n",
       "      <th>Station</th>\n",
       "      <th>LineName</th>\n",
       "      <th>Division</th>\n",
       "      <th>Date_Str</th>\n",
       "      <th>Time_Str</th>\n",
       "      <th>Description</th>\n",
       "      <th>Entries</th>\n",
       "      <th>Exits</th>\n",
       "    </tr>\n",
       "  </thead>\n",
       "  <tbody>\n",
       "    <tr>\n",
       "      <th>0</th>\n",
       "      <td></td>\n",
       "      <td>None</td>\n",
       "      <td>None</td>\n",
       "      <td>None</td>\n",
       "      <td>None</td>\n",
       "      <td>None</td>\n",
       "      <td>None</td>\n",
       "      <td>None</td>\n",
       "      <td>None</td>\n",
       "      <td>None</td>\n",
       "      <td>None</td>\n",
       "    </tr>\n",
       "  </tbody>\n",
       "</table>\n",
       "</div>"
      ],
      "text/plain": [
       "  C_A  Unit   SCP Station LineName Division Date_Str Time_Str Description  \\\n",
       "0      None  None    None     None     None     None     None        None   \n",
       "\n",
       "  Entries Exits  \n",
       "0    None  None  "
      ]
     },
     "execution_count": 31,
     "metadata": {},
     "output_type": "execute_result"
    }
   ],
   "source": [
    "import pandas as pd\n",
    "df = pd.read_sql('select * from mta',cnxn)\n",
    "df"
   ]
  },
  {
   "cell_type": "code",
   "execution_count": null,
   "metadata": {},
   "outputs": [],
   "source": []
  }
 ],
 "metadata": {
  "kernelspec": {
   "display_name": "Python 3",
   "language": "python",
   "name": "python3"
  },
  "language_info": {
   "codemirror_mode": {
    "name": "ipython",
    "version": 3
   },
   "file_extension": ".py",
   "mimetype": "text/x-python",
   "name": "python",
   "nbconvert_exporter": "python",
   "pygments_lexer": "ipython3",
   "version": "3.8.3"
  }
 },
 "nbformat": 4,
 "nbformat_minor": 4
}
